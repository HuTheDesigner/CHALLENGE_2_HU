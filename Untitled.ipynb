{
 "cells": [
  {
   "cell_type": "code",
   "execution_count": 2,
   "id": "80a150de-1165-45f5-9f09-c1b7eed6042b",
   "metadata": {},
   "outputs": [
    {
     "name": "stdout",
     "output_type": "stream",
     "text": [
      "# conda environments:\n",
      "#\n",
      "base                     /Users/huthedesigner/opt/anaconda3\n",
      "atmdev1                  /Users/huthedesigner/opt/anaconda3/envs/atmdev1\n",
      "dev                   *  /Users/huthedesigner/opt/anaconda3/envs/dev\n",
      "\n"
     ]
    }
   ],
   "source": [
    "! conda env list"
   ]
  },
  {
   "cell_type": "code",
   "execution_count": 3,
   "id": "6ea90cf0-f309-479a-9342-f661ab6671df",
   "metadata": {},
   "outputs": [
    {
     "name": "stdout",
     "output_type": "stream",
     "text": [
      "# packages in environment at /Users/huthedesigner/opt/anaconda3/envs/dev:\n",
      "#\n",
      "# Name                    Version                   Build  Channel\n",
      "fire                      0.4.0                    pypi_0    pypi\n"
     ]
    }
   ],
   "source": [
    "! conda list fire"
   ]
  },
  {
   "cell_type": "code",
   "execution_count": 4,
   "id": "33098e25-d49e-4bdf-859c-979f70b2ad21",
   "metadata": {},
   "outputs": [
    {
     "name": "stdout",
     "output_type": "stream",
     "text": [
      "# packages in environment at /Users/huthedesigner/opt/anaconda3/envs/dev:\n",
      "#\n",
      "# Name                    Version                   Build  Channel\n",
      "questionary               1.10.0                   pypi_0    pypi\n"
     ]
    }
   ],
   "source": [
    "! conda list questionary"
   ]
  },
  {
   "cell_type": "code",
   "execution_count": 5,
   "id": "bc04c0b5-7ba5-4d15-aeeb-b45bd102f1c6",
   "metadata": {},
   "outputs": [],
   "source": [
    "import fire"
   ]
  },
  {
   "cell_type": "code",
   "execution_count": 6,
   "id": "da4ee680-c579-4e47-9393-c40f0d19c203",
   "metadata": {},
   "outputs": [],
   "source": [
    "import questionary"
   ]
  },
  {
   "cell_type": "code",
   "execution_count": 7,
   "id": "efd10e59-6e64-4748-a136-7593174febed",
   "metadata": {},
   "outputs": [],
   "source": [
    "import sys"
   ]
  },
  {
   "cell_type": "code",
   "execution_count": null,
   "id": "64742567-15f6-427a-b3a2-351b936be194",
   "metadata": {},
   "outputs": [],
   "source": []
  }
 ],
 "metadata": {
  "kernelspec": {
   "display_name": "Python 3",
   "language": "python",
   "name": "python3"
  },
  "language_info": {
   "codemirror_mode": {
    "name": "ipython",
    "version": 3
   },
   "file_extension": ".py",
   "mimetype": "text/x-python",
   "name": "python",
   "nbconvert_exporter": "python",
   "pygments_lexer": "ipython3",
   "version": "3.7.10"
  }
 },
 "nbformat": 4,
 "nbformat_minor": 5
}
